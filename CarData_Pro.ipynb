{
  "nbformat": 4,
  "nbformat_minor": 0,
  "metadata": {
    "colab": {
      "private_outputs": true,
      "provenance": [],
      "authorship_tag": "ABX9TyMD5PRKmRwBcl/qCyuKHkKw"
    },
    "kernelspec": {
      "name": "python3",
      "display_name": "Python 3"
    },
    "language_info": {
      "name": "python"
    },
    "accelerator": "GPU",
    "gpuClass": "standard"
  },
  "cells": [
    {
      "cell_type": "code",
      "execution_count": null,
      "metadata": {
        "id": "r4Zdoynm2SxH"
      },
      "outputs": [],
      "source": [
        "import numpy as np\n",
        "import pandas as pd\n",
        "import matplotlib.pyplot as plt\n",
        "import seaborn as sns\n",
        "from sklearn import metrics\n",
        "import warnings\n",
        "warnings.filterwarnings(\"ignore\")\n",
        "sns.set_style('whitegrid')\n",
        "sns.set_palette(\"GnBu_d\")"
      ]
    },
    {
      "cell_type": "code",
      "source": [
        "# dataset\n",
        "\n",
        "data = pd.read_csv(\"https://raw.githubusercontent.com/jay05Hawk/CarData_Pro/main/CAR%20DETAILS%20DATA.csv\")\n",
        "df = pd.DataFrame(data)\n",
        "df"
      ],
      "metadata": {
        "id": "IqMAjWoi3AEN"
      },
      "execution_count": null,
      "outputs": []
    },
    {
      "cell_type": "markdown",
      "source": [
        "$\\color{red}{\\text{Preprocessing}}$"
      ],
      "metadata": {
        "id": "eLe7sJ2P5lDe"
      }
    },
    {
      "cell_type": "code",
      "source": [
        "df.describe(include=\"all\")"
      ],
      "metadata": {
        "id": "QfcecMj13AlA"
      },
      "execution_count": null,
      "outputs": []
    },
    {
      "cell_type": "code",
      "source": [
        "df.info()"
      ],
      "metadata": {
        "id": "VkxdGJIa3Ayo"
      },
      "execution_count": null,
      "outputs": []
    },
    {
      "cell_type": "markdown",
      "source": [
        "$\\color{blue}{\\text{To find the non of null value present in each column}}$"
      ],
      "metadata": {
        "id": "AFnAWm3M6REy"
      }
    },
    {
      "cell_type": "code",
      "source": [
        "df.isnull().sum()"
      ],
      "metadata": {
        "id": "dH-cSQ2d3BEE"
      },
      "execution_count": null,
      "outputs": []
    },
    {
      "cell_type": "markdown",
      "source": [
        "$\\color{blue}{\\text{We don't want to Car_Name at the model, Then delete this feature}}$"
      ],
      "metadata": {
        "id": "mNH6iI2V6rUW"
      }
    },
    {
      "cell_type": "code",
      "source": [
        "#drop Volume \n",
        "df1 = df.drop(\"name\",axis=1)\n",
        "df1"
      ],
      "metadata": {
        "id": "sgqeYfpG3Bia"
      },
      "execution_count": null,
      "outputs": []
    },
    {
      "cell_type": "markdown",
      "source": [
        "$\\color{blue}{\\text{Creat new column : Age}}$"
      ],
      "metadata": {
        "id": "TT-xFm4B_QN7"
      }
    },
    {
      "cell_type": "code",
      "source": [
        "df1[\"Age\"] = 2023\n",
        "df1[\"Age\"] = df1[\"Age\"]-df1[\"year\"]\n",
        "df1"
      ],
      "metadata": {
        "id": "IPF7fwlN-9ME"
      },
      "execution_count": null,
      "outputs": []
    },
    {
      "cell_type": "code",
      "source": [
        "# Drop the \"Year\"\n",
        "df1.drop(\"year\",axis=1,inplace=True)\n",
        "df1"
      ],
      "metadata": {
        "id": "xpDds2hU_fYp"
      },
      "execution_count": null,
      "outputs": []
    },
    {
      "cell_type": "code",
      "source": [
        "plt.figure(figsize=[17,5],dpi=100)\n",
        "plt.subplot(1,3,1)\n",
        "sns.barplot(df1['seller_type'], df1['selling_price'],color='r')\n",
        "plt.title('Selling_Price Vs Seller Type*1')\n",
        "\n",
        "plt.subplot(1,3,2)\n",
        "sns.barplot(df1['transmission'],df1['selling_price'],color='m')\n",
        "plt.title('Selling_Price Vs Transmission*2')\n",
        "\n",
        "plt.subplot(1,3,3)\n",
        "sns.barplot(df1['fuel'],df1['selling_price'],color='y')\n",
        "plt.title('Selling_Price Vs Fuel_Type*3')\n",
        "\n",
        "plt.show()"
      ],
      "metadata": {
        "id": "SGQ3KgmI_-hz"
      },
      "execution_count": null,
      "outputs": []
    },
    {
      "cell_type": "markdown",
      "source": [
        "1.Selling Price of cars seems to have higher prices when sold by Dealers when compared to Individuals\n",
        "\n",
        "2.It can be observed that Selling Price would be higher for cars that are Automatic.\n",
        "\n",
        "3.Selling Price of cars with Fuel Type of Diesel is higher than Petrol and CNG"
      ],
      "metadata": {
        "id": "SbT-fzAnBb_x"
      }
    },
    {
      "cell_type": "code",
      "source": [
        "# Barplot\n",
        "plt.figure(figsize=[17,5],dpi=100)\n",
        "plt.subplot(1,3,1)\n",
        "sns.barplot(df1['owner'],df1['selling_price'])\n",
        "plt.title('Selling_Price Vs Owner*1')\n",
        "\n",
        "plt.subplot(1,3,2)\n",
        "sns.barplot(df1['Age'],df1['selling_price'])\n",
        "plt.title('Selling_Price Vs Age*2')\n",
        "\n",
        "plt.subplot(1,3,3)\n",
        "sns.regplot(df1['selling_price'],df1['km_driven'])\n",
        "plt.title('Selling_Price Vs Kms_Driven*3')\n",
        "plt.show()"
      ],
      "metadata": {
        "id": "eLynnv_7_-3S"
      },
      "execution_count": null,
      "outputs": []
    },
    {
      "cell_type": "markdown",
      "source": [
        "1.Selling Price is high with less Owners used Cars\n",
        "\n",
        "2.Selling Price of cars 2 years old would be high and gradually decreases with car of 17 years old\n",
        "\n",
        "3.Lesser the Kms driven higher the Selling Price"
      ],
      "metadata": {
        "id": "ZMHlBfNRCQUn"
      }
    },
    {
      "cell_type": "code",
      "source": [
        "plt.figure(figsize=[17,5],dpi=100)\n",
        "plt.subplot(1,3,1)\n",
        "# sns.regplot(df['selling_price'],df['Present_Price'],color='r')\n",
        "# plt.title('Selling_Price Vs Present_Price')\n",
        "\n",
        "plt.subplot(1,3,2)\n",
        "sns.distplot(np.log(df['selling_price']),color='m')\n",
        "plt.title('Distribution of Selling Price')\n",
        "\n",
        "plt.subplot(1,3,3)\n",
        "sns.distplot(np.log(df['km_driven']),color='b')\n",
        "plt.title('Distribution of KMS Drived')\n",
        "\n",
        "plt.show()"
      ],
      "metadata": {
        "id": "MSFyI9bqAGkX"
      },
      "execution_count": null,
      "outputs": []
    },
    {
      "cell_type": "markdown",
      "source": [
        "$\\color{purple}{\\text{For converting the categorial features}}$"
      ],
      "metadata": {
        "id": "o0AJIwQxD3WF"
      }
    },
    {
      "cell_type": "code",
      "source": [
        "df1 = pd.get_dummies(df1,drop_first=True)\n",
        "df1"
      ],
      "metadata": {
        "id": "U0JCyTaSAGza"
      },
      "execution_count": null,
      "outputs": []
    },
    {
      "cell_type": "markdown",
      "source": [
        "$\\color{blue}{\\text{Checking Multicollinearity Using VIF}}$"
      ],
      "metadata": {
        "id": "OYLzJg9SE4BS"
      }
    },
    {
      "cell_type": "code",
      "source": [
        "#Variance Inflation Factor (VIF)\n",
        "#VIF measures the strength of the correlation between the independent variables in regression analysis.\n",
        "#This correlation is known as multicollinearity, which can cause problems for regression models.\n",
        "from statsmodels.stats.outliers_influence import variance_inflation_factor\n",
        "variables = df1[['km_driven','fuel_LPG','Age','fuel_Diesel','fuel_Petrol','seller_type_Individual','transmission_Manual']]\n",
        "vif = pd.DataFrame()\n",
        "vif[\"VIF\"] = [variance_inflation_factor(variables.values, i) for i in range(variables.shape[1])]\n",
        "vif[\"Features\"] = variables.columns\n",
        "vif"
      ],
      "metadata": {
        "id": "Yj245vT2AHt6"
      },
      "execution_count": null,
      "outputs": []
    },
    {
      "cell_type": "code",
      "source": [],
      "metadata": {
        "id": "3ZeDmwFkAIB-"
      },
      "execution_count": null,
      "outputs": []
    }
  ]
}